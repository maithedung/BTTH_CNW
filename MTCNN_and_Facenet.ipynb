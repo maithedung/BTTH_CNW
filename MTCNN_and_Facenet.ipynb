{
  "nbformat": 4,
  "nbformat_minor": 0,
  "metadata": {
    "colab": {
      "name": "MTCNN_and_Facenet.ipynb",
      "provenance": [],
      "authorship_tag": "ABX9TyOMpVifcAEljoH4BEuk42lH",
      "include_colab_link": true
    },
    "kernelspec": {
      "name": "python3",
      "display_name": "Python 3"
    }
  },
  "cells": [
    {
      "cell_type": "markdown",
      "metadata": {
        "id": "view-in-github",
        "colab_type": "text"
      },
      "source": [
        "<a href=\"https://colab.research.google.com/github/maithedung/BTTH_CNW/blob/master/MTCNN_and_Facenet.ipynb\" target=\"_parent\"><img src=\"https://colab.research.google.com/assets/colab-badge.svg\" alt=\"Open In Colab\"/></a>"
      ]
    },
    {
      "cell_type": "code",
      "metadata": {
        "colab": {
          "base_uri": "https://localhost:8080/"
        },
        "id": "ihiuE2hymrWh",
        "outputId": "fdb3f87b-0ff4-439f-ad8f-76e6566c2018"
      },
      "source": [
        "!git clone https://github.com/thangnch/MiAI_FaceRecog_2"
      ],
      "execution_count": 1,
      "outputs": [
        {
          "output_type": "stream",
          "text": [
            "Cloning into 'MiAI_FaceRecog_2'...\n",
            "remote: Enumerating objects: 114, done.\u001b[K\n",
            "remote: Total 114 (delta 0), reused 0 (delta 0), pack-reused 114\u001b[K\n",
            "Receiving objects: 100% (114/114), 2.70 MiB | 25.12 MiB/s, done.\n",
            "Resolving deltas: 100% (32/32), done.\n"
          ],
          "name": "stdout"
        }
      ]
    },
    {
      "cell_type": "code",
      "metadata": {
        "colab": {
          "base_uri": "https://localhost:8080/"
        },
        "id": "C5PzNYXcof96",
        "outputId": "649c7315-25bf-4c74-e5c7-221267094b06"
      },
      "source": [
        "!ls"
      ],
      "execution_count": null,
      "outputs": [
        {
          "output_type": "stream",
          "text": [
            "MiAI_FaceRecog_2  sample_data\n"
          ],
          "name": "stdout"
        }
      ]
    },
    {
      "cell_type": "code",
      "metadata": {
        "id": "wd9LgdDWoipf"
      },
      "source": [
        "!cd MiAI_FaceRecog_2/"
      ],
      "execution_count": null,
      "outputs": []
    },
    {
      "cell_type": "code",
      "metadata": {
        "colab": {
          "base_uri": "https://localhost:8080/"
        },
        "id": "8I8KFpwsomKo",
        "outputId": "48ac92f2-5ff0-41ea-b3da-d4717282db1a"
      },
      "source": [
        ""
      ],
      "execution_count": null,
      "outputs": [
        {
          "output_type": "stream",
          "text": [
            "MiAI_FaceRecog_2  sample_data\n"
          ],
          "name": "stdout"
        }
      ]
    }
  ]
}